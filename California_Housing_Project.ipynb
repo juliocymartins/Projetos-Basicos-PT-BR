{
 "cells": [
  {
   "cell_type": "code",
   "execution_count": 32,
   "metadata": {},
   "outputs": [],
   "source": [
    "# Vamos começar importando as bibliotecas iniciais necessárias para realizar nosso projeto.\n",
    "\n",
    "import pandas as pd\n",
    "import numpy as np\n",
    "import matplotlib.pyplot as plt\n",
    "\n",
    "from sklearn.datasets import fetch_california_housing\n",
    "from sklearn.model_selection import train_test_split"
   ]
  },
  {
   "cell_type": "markdown",
   "metadata": {},
   "source": [
    "# 1 - Análise Exploratória e Estatística\n",
    "\n",
    "Vamos começar carregando nosso conjunto de dados para visualizar as primeiras informações sobre eles."
   ]
  },
  {
   "cell_type": "code",
   "execution_count": 33,
   "metadata": {},
   "outputs": [
    {
     "name": "stdout",
     "output_type": "stream",
     "text": [
      ".. _california_housing_dataset:\n",
      "\n",
      "California Housing dataset\n",
      "--------------------------\n",
      "\n",
      "**Data Set Characteristics:**\n",
      "\n",
      "    :Number of Instances: 20640\n",
      "\n",
      "    :Number of Attributes: 8 numeric, predictive attributes and the target\n",
      "\n",
      "    :Attribute Information:\n",
      "        - MedInc        median income in block group\n",
      "        - HouseAge      median house age in block group\n",
      "        - AveRooms      average number of rooms per household\n",
      "        - AveBedrms     average number of bedrooms per household\n",
      "        - Population    block group population\n",
      "        - AveOccup      average number of household members\n",
      "        - Latitude      block group latitude\n",
      "        - Longitude     block group longitude\n",
      "\n",
      "    :Missing Attribute Values: None\n",
      "\n",
      "This dataset was obtained from the StatLib repository.\n",
      "https://www.dcc.fc.up.pt/~ltorgo/Regression/cal_housing.html\n",
      "\n",
      "The target variable is the median house value for California districts,\n",
      "expressed in hundreds of thousands of dollars ($100,000).\n",
      "\n",
      "This dataset was derived from the 1990 U.S. census, using one row per census\n",
      "block group. A block group is the smallest geographical unit for which the U.S.\n",
      "Census Bureau publishes sample data (a block group typically has a population\n",
      "of 600 to 3,000 people).\n",
      "\n",
      "A household is a group of people residing within a home. Since the average\n",
      "number of rooms and bedrooms in this dataset are provided per household, these\n",
      "columns may take surprisingly large values for block groups with few households\n",
      "and many empty houses, such as vacation resorts.\n",
      "\n",
      "It can be downloaded/loaded using the\n",
      ":func:`sklearn.datasets.fetch_california_housing` function.\n",
      "\n",
      ".. topic:: References\n",
      "\n",
      "    - Pace, R. Kelley and Ronald Barry, Sparse Spatial Autoregressions,\n",
      "      Statistics and Probability Letters, 33 (1997) 291-297\n",
      "\n"
     ]
    }
   ],
   "source": [
    "# Carrega o conjunto de dados\n",
    "california_housing = fetch_california_housing()\n",
    "\n",
    "# Imprime informações sobre o conjunto de dados\n",
    "print(california_housing.DESCR)"
   ]
  },
  {
   "cell_type": "code",
   "execution_count": 34,
   "metadata": {},
   "outputs": [
    {
     "data": {
      "text/html": [
       "<div>\n",
       "<style scoped>\n",
       "    .dataframe tbody tr th:only-of-type {\n",
       "        vertical-align: middle;\n",
       "    }\n",
       "\n",
       "    .dataframe tbody tr th {\n",
       "        vertical-align: top;\n",
       "    }\n",
       "\n",
       "    .dataframe thead th {\n",
       "        text-align: right;\n",
       "    }\n",
       "</style>\n",
       "<table border=\"1\" class=\"dataframe\">\n",
       "  <thead>\n",
       "    <tr style=\"text-align: right;\">\n",
       "      <th></th>\n",
       "      <th>MedInc</th>\n",
       "      <th>HouseAge</th>\n",
       "      <th>AveRooms</th>\n",
       "      <th>AveBedrms</th>\n",
       "      <th>Population</th>\n",
       "      <th>AveOccup</th>\n",
       "      <th>Latitude</th>\n",
       "      <th>Longitude</th>\n",
       "      <th>target</th>\n",
       "    </tr>\n",
       "  </thead>\n",
       "  <tbody>\n",
       "    <tr>\n",
       "      <th>0</th>\n",
       "      <td>8.3252</td>\n",
       "      <td>41.0</td>\n",
       "      <td>6.984127</td>\n",
       "      <td>1.023810</td>\n",
       "      <td>322.0</td>\n",
       "      <td>2.555556</td>\n",
       "      <td>37.88</td>\n",
       "      <td>-122.23</td>\n",
       "      <td>452600.0</td>\n",
       "    </tr>\n",
       "    <tr>\n",
       "      <th>1</th>\n",
       "      <td>8.3014</td>\n",
       "      <td>21.0</td>\n",
       "      <td>6.238137</td>\n",
       "      <td>0.971880</td>\n",
       "      <td>2401.0</td>\n",
       "      <td>2.109842</td>\n",
       "      <td>37.86</td>\n",
       "      <td>-122.22</td>\n",
       "      <td>358500.0</td>\n",
       "    </tr>\n",
       "    <tr>\n",
       "      <th>2</th>\n",
       "      <td>7.2574</td>\n",
       "      <td>52.0</td>\n",
       "      <td>8.288136</td>\n",
       "      <td>1.073446</td>\n",
       "      <td>496.0</td>\n",
       "      <td>2.802260</td>\n",
       "      <td>37.85</td>\n",
       "      <td>-122.24</td>\n",
       "      <td>352100.0</td>\n",
       "    </tr>\n",
       "    <tr>\n",
       "      <th>3</th>\n",
       "      <td>5.6431</td>\n",
       "      <td>52.0</td>\n",
       "      <td>5.817352</td>\n",
       "      <td>1.073059</td>\n",
       "      <td>558.0</td>\n",
       "      <td>2.547945</td>\n",
       "      <td>37.85</td>\n",
       "      <td>-122.25</td>\n",
       "      <td>341300.0</td>\n",
       "    </tr>\n",
       "    <tr>\n",
       "      <th>4</th>\n",
       "      <td>3.8462</td>\n",
       "      <td>52.0</td>\n",
       "      <td>6.281853</td>\n",
       "      <td>1.081081</td>\n",
       "      <td>565.0</td>\n",
       "      <td>2.181467</td>\n",
       "      <td>37.85</td>\n",
       "      <td>-122.25</td>\n",
       "      <td>342200.0</td>\n",
       "    </tr>\n",
       "    <tr>\n",
       "      <th>...</th>\n",
       "      <td>...</td>\n",
       "      <td>...</td>\n",
       "      <td>...</td>\n",
       "      <td>...</td>\n",
       "      <td>...</td>\n",
       "      <td>...</td>\n",
       "      <td>...</td>\n",
       "      <td>...</td>\n",
       "      <td>...</td>\n",
       "    </tr>\n",
       "    <tr>\n",
       "      <th>20635</th>\n",
       "      <td>1.5603</td>\n",
       "      <td>25.0</td>\n",
       "      <td>5.045455</td>\n",
       "      <td>1.133333</td>\n",
       "      <td>845.0</td>\n",
       "      <td>2.560606</td>\n",
       "      <td>39.48</td>\n",
       "      <td>-121.09</td>\n",
       "      <td>78100.0</td>\n",
       "    </tr>\n",
       "    <tr>\n",
       "      <th>20636</th>\n",
       "      <td>2.5568</td>\n",
       "      <td>18.0</td>\n",
       "      <td>6.114035</td>\n",
       "      <td>1.315789</td>\n",
       "      <td>356.0</td>\n",
       "      <td>3.122807</td>\n",
       "      <td>39.49</td>\n",
       "      <td>-121.21</td>\n",
       "      <td>77100.0</td>\n",
       "    </tr>\n",
       "    <tr>\n",
       "      <th>20637</th>\n",
       "      <td>1.7000</td>\n",
       "      <td>17.0</td>\n",
       "      <td>5.205543</td>\n",
       "      <td>1.120092</td>\n",
       "      <td>1007.0</td>\n",
       "      <td>2.325635</td>\n",
       "      <td>39.43</td>\n",
       "      <td>-121.22</td>\n",
       "      <td>92300.0</td>\n",
       "    </tr>\n",
       "    <tr>\n",
       "      <th>20638</th>\n",
       "      <td>1.8672</td>\n",
       "      <td>18.0</td>\n",
       "      <td>5.329513</td>\n",
       "      <td>1.171920</td>\n",
       "      <td>741.0</td>\n",
       "      <td>2.123209</td>\n",
       "      <td>39.43</td>\n",
       "      <td>-121.32</td>\n",
       "      <td>84700.0</td>\n",
       "    </tr>\n",
       "    <tr>\n",
       "      <th>20639</th>\n",
       "      <td>2.3886</td>\n",
       "      <td>16.0</td>\n",
       "      <td>5.254717</td>\n",
       "      <td>1.162264</td>\n",
       "      <td>1387.0</td>\n",
       "      <td>2.616981</td>\n",
       "      <td>39.37</td>\n",
       "      <td>-121.24</td>\n",
       "      <td>89400.0</td>\n",
       "    </tr>\n",
       "  </tbody>\n",
       "</table>\n",
       "<p>20640 rows × 9 columns</p>\n",
       "</div>"
      ],
      "text/plain": [
       "       MedInc  HouseAge  AveRooms  AveBedrms  Population  AveOccup  Latitude  \\\n",
       "0      8.3252      41.0  6.984127   1.023810       322.0  2.555556     37.88   \n",
       "1      8.3014      21.0  6.238137   0.971880      2401.0  2.109842     37.86   \n",
       "2      7.2574      52.0  8.288136   1.073446       496.0  2.802260     37.85   \n",
       "3      5.6431      52.0  5.817352   1.073059       558.0  2.547945     37.85   \n",
       "4      3.8462      52.0  6.281853   1.081081       565.0  2.181467     37.85   \n",
       "...       ...       ...       ...        ...         ...       ...       ...   \n",
       "20635  1.5603      25.0  5.045455   1.133333       845.0  2.560606     39.48   \n",
       "20636  2.5568      18.0  6.114035   1.315789       356.0  3.122807     39.49   \n",
       "20637  1.7000      17.0  5.205543   1.120092      1007.0  2.325635     39.43   \n",
       "20638  1.8672      18.0  5.329513   1.171920       741.0  2.123209     39.43   \n",
       "20639  2.3886      16.0  5.254717   1.162264      1387.0  2.616981     39.37   \n",
       "\n",
       "       Longitude    target  \n",
       "0        -122.23  452600.0  \n",
       "1        -122.22  358500.0  \n",
       "2        -122.24  352100.0  \n",
       "3        -122.25  341300.0  \n",
       "4        -122.25  342200.0  \n",
       "...          ...       ...  \n",
       "20635    -121.09   78100.0  \n",
       "20636    -121.21   77100.0  \n",
       "20637    -121.22   92300.0  \n",
       "20638    -121.32   84700.0  \n",
       "20639    -121.24   89400.0  \n",
       "\n",
       "[20640 rows x 9 columns]"
      ]
     },
     "execution_count": 34,
     "metadata": {},
     "output_type": "execute_result"
    }
   ],
   "source": [
    "# Criar DataFrame com os dados e rótulos\n",
    "california_df = pd.DataFrame(data=california_housing.data, columns=california_housing.feature_names)\n",
    "california_df['target1'] = california_housing.target\n",
    "\n",
    "# Aplicar a fórmula diretamente à coluna 'target' para visualizar o valor real das casas.\n",
    "california_df['target'] = california_df['target1'] * 100000\n",
    "\n",
    "# Excluir a coluna 'target1'\n",
    "california_df.drop('target1', axis=1, inplace=True)\n",
    "\n",
    "# Exibir os primeiros e últimos registros do DataFrame\n",
    "california_df"
   ]
  },
  {
   "cell_type": "code",
   "execution_count": 35,
   "metadata": {},
   "outputs": [
    {
     "name": "stdout",
     "output_type": "stream",
     "text": [
      "<class 'pandas.core.frame.DataFrame'>\n",
      "RangeIndex: 20640 entries, 0 to 20639\n",
      "Data columns (total 9 columns):\n",
      " #   Column      Non-Null Count  Dtype  \n",
      "---  ------      --------------  -----  \n",
      " 0   MedInc      20640 non-null  float64\n",
      " 1   HouseAge    20640 non-null  float64\n",
      " 2   AveRooms    20640 non-null  float64\n",
      " 3   AveBedrms   20640 non-null  float64\n",
      " 4   Population  20640 non-null  float64\n",
      " 5   AveOccup    20640 non-null  float64\n",
      " 6   Latitude    20640 non-null  float64\n",
      " 7   Longitude   20640 non-null  float64\n",
      " 8   target      20640 non-null  float64\n",
      "dtypes: float64(9)\n",
      "memory usage: 1.4 MB\n"
     ]
    }
   ],
   "source": [
    "# Obter informações sobre cada coluna do dataset\n",
    "california_df.info()"
   ]
  },
  {
   "cell_type": "code",
   "execution_count": 36,
   "metadata": {},
   "outputs": [
    {
     "data": {
      "text/html": [
       "<div>\n",
       "<style scoped>\n",
       "    .dataframe tbody tr th:only-of-type {\n",
       "        vertical-align: middle;\n",
       "    }\n",
       "\n",
       "    .dataframe tbody tr th {\n",
       "        vertical-align: top;\n",
       "    }\n",
       "\n",
       "    .dataframe thead th {\n",
       "        text-align: right;\n",
       "    }\n",
       "</style>\n",
       "<table border=\"1\" class=\"dataframe\">\n",
       "  <thead>\n",
       "    <tr style=\"text-align: right;\">\n",
       "      <th></th>\n",
       "      <th>MedInc</th>\n",
       "      <th>HouseAge</th>\n",
       "      <th>AveRooms</th>\n",
       "      <th>AveBedrms</th>\n",
       "      <th>Population</th>\n",
       "      <th>AveOccup</th>\n",
       "      <th>Latitude</th>\n",
       "      <th>Longitude</th>\n",
       "      <th>target</th>\n",
       "    </tr>\n",
       "  </thead>\n",
       "  <tbody>\n",
       "    <tr>\n",
       "      <th>count</th>\n",
       "      <td>20640.000000</td>\n",
       "      <td>20640.000000</td>\n",
       "      <td>20640.000000</td>\n",
       "      <td>20640.000000</td>\n",
       "      <td>20640.000000</td>\n",
       "      <td>20640.000000</td>\n",
       "      <td>20640.000000</td>\n",
       "      <td>20640.000000</td>\n",
       "      <td>20640.000000</td>\n",
       "    </tr>\n",
       "    <tr>\n",
       "      <th>mean</th>\n",
       "      <td>3.870671</td>\n",
       "      <td>28.639486</td>\n",
       "      <td>5.429000</td>\n",
       "      <td>1.096675</td>\n",
       "      <td>1425.476744</td>\n",
       "      <td>3.070655</td>\n",
       "      <td>35.631861</td>\n",
       "      <td>-119.569704</td>\n",
       "      <td>206855.816909</td>\n",
       "    </tr>\n",
       "    <tr>\n",
       "      <th>std</th>\n",
       "      <td>1.899822</td>\n",
       "      <td>12.585558</td>\n",
       "      <td>2.474173</td>\n",
       "      <td>0.473911</td>\n",
       "      <td>1132.462122</td>\n",
       "      <td>10.386050</td>\n",
       "      <td>2.135952</td>\n",
       "      <td>2.003532</td>\n",
       "      <td>115395.615874</td>\n",
       "    </tr>\n",
       "    <tr>\n",
       "      <th>min</th>\n",
       "      <td>0.499900</td>\n",
       "      <td>1.000000</td>\n",
       "      <td>0.846154</td>\n",
       "      <td>0.333333</td>\n",
       "      <td>3.000000</td>\n",
       "      <td>0.692308</td>\n",
       "      <td>32.540000</td>\n",
       "      <td>-124.350000</td>\n",
       "      <td>14999.000000</td>\n",
       "    </tr>\n",
       "    <tr>\n",
       "      <th>25%</th>\n",
       "      <td>2.563400</td>\n",
       "      <td>18.000000</td>\n",
       "      <td>4.440716</td>\n",
       "      <td>1.006079</td>\n",
       "      <td>787.000000</td>\n",
       "      <td>2.429741</td>\n",
       "      <td>33.930000</td>\n",
       "      <td>-121.800000</td>\n",
       "      <td>119600.000000</td>\n",
       "    </tr>\n",
       "    <tr>\n",
       "      <th>50%</th>\n",
       "      <td>3.534800</td>\n",
       "      <td>29.000000</td>\n",
       "      <td>5.229129</td>\n",
       "      <td>1.048780</td>\n",
       "      <td>1166.000000</td>\n",
       "      <td>2.818116</td>\n",
       "      <td>34.260000</td>\n",
       "      <td>-118.490000</td>\n",
       "      <td>179700.000000</td>\n",
       "    </tr>\n",
       "    <tr>\n",
       "      <th>75%</th>\n",
       "      <td>4.743250</td>\n",
       "      <td>37.000000</td>\n",
       "      <td>6.052381</td>\n",
       "      <td>1.099526</td>\n",
       "      <td>1725.000000</td>\n",
       "      <td>3.282261</td>\n",
       "      <td>37.710000</td>\n",
       "      <td>-118.010000</td>\n",
       "      <td>264725.000000</td>\n",
       "    </tr>\n",
       "    <tr>\n",
       "      <th>max</th>\n",
       "      <td>15.000100</td>\n",
       "      <td>52.000000</td>\n",
       "      <td>141.909091</td>\n",
       "      <td>34.066667</td>\n",
       "      <td>35682.000000</td>\n",
       "      <td>1243.333333</td>\n",
       "      <td>41.950000</td>\n",
       "      <td>-114.310000</td>\n",
       "      <td>500001.000000</td>\n",
       "    </tr>\n",
       "  </tbody>\n",
       "</table>\n",
       "</div>"
      ],
      "text/plain": [
       "             MedInc      HouseAge      AveRooms     AveBedrms    Population  \\\n",
       "count  20640.000000  20640.000000  20640.000000  20640.000000  20640.000000   \n",
       "mean       3.870671     28.639486      5.429000      1.096675   1425.476744   \n",
       "std        1.899822     12.585558      2.474173      0.473911   1132.462122   \n",
       "min        0.499900      1.000000      0.846154      0.333333      3.000000   \n",
       "25%        2.563400     18.000000      4.440716      1.006079    787.000000   \n",
       "50%        3.534800     29.000000      5.229129      1.048780   1166.000000   \n",
       "75%        4.743250     37.000000      6.052381      1.099526   1725.000000   \n",
       "max       15.000100     52.000000    141.909091     34.066667  35682.000000   \n",
       "\n",
       "           AveOccup      Latitude     Longitude         target  \n",
       "count  20640.000000  20640.000000  20640.000000   20640.000000  \n",
       "mean       3.070655     35.631861   -119.569704  206855.816909  \n",
       "std       10.386050      2.135952      2.003532  115395.615874  \n",
       "min        0.692308     32.540000   -124.350000   14999.000000  \n",
       "25%        2.429741     33.930000   -121.800000  119600.000000  \n",
       "50%        2.818116     34.260000   -118.490000  179700.000000  \n",
       "75%        3.282261     37.710000   -118.010000  264725.000000  \n",
       "max     1243.333333     41.950000   -114.310000  500001.000000  "
      ]
     },
     "execution_count": 36,
     "metadata": {},
     "output_type": "execute_result"
    }
   ],
   "source": [
    "# Obter informações estatísticas das colunas numéricas do dataframe\n",
    "california_df.describe()"
   ]
  },
  {
   "cell_type": "code",
   "execution_count": 37,
   "metadata": {},
   "outputs": [
    {
     "data": {
      "text/plain": [
       "MedInc        0\n",
       "HouseAge      0\n",
       "AveRooms      0\n",
       "AveBedrms     0\n",
       "Population    0\n",
       "AveOccup      0\n",
       "Latitude      0\n",
       "Longitude     0\n",
       "target        0\n",
       "dtype: int64"
      ]
     },
     "execution_count": 37,
     "metadata": {},
     "output_type": "execute_result"
    }
   ],
   "source": [
    "# Verificar se nosso dataframe possui alguma coluna com valores vazios\n",
    "california_df.isnull().sum()"
   ]
  },
  {
   "cell_type": "code",
   "execution_count": 38,
   "metadata": {},
   "outputs": [
    {
     "data": {
      "image/png": "[encoded data removed]",
      "text/plain": [
       "<Figure size 1200x800 with 9 Axes>"
      ]
     },
     "metadata": {},
     "output_type": "display_data"
    }
   ],
   "source": [
    "# Utilizar matplotlib para visualizar de forma gráfica como os dados estão distribuídos em cada coluna do dataframe.\n",
    "plt.rc('font', size=14)\n",
    "plt.rc('axes', labelsize=14, titlesize=14)\n",
    "plt.rc('legend', fontsize=14)\n",
    "plt.rc('xtick', labelsize=10)\n",
    "plt.rc('ytick', labelsize=10)\n",
    "\n",
    "california_df.hist(bins=50, figsize=(12, 8))\n",
    "plt.show()"
   ]
  },
  {
   "cell_type": "markdown",
   "metadata": {},
   "source": [
    "Vamos agora procurar correlações entre as colunas do nosso dataframe e a variável alvo."
   ]
  },
  {
   "cell_type": "code",
   "execution_count": 39,
   "metadata": {},
   "outputs": [
    {
     "data": {
      "text/plain": [
       "target        1.000000\n",
       "MedInc        0.688075\n",
       "AveRooms      0.151948\n",
       "HouseAge      0.105623\n",
       "AveOccup     -0.023737\n",
       "Population   -0.024650\n",
       "Longitude    -0.045967\n",
       "AveBedrms    -0.046701\n",
       "Latitude     -0.144160\n",
       "Name: target, dtype: float64"
      ]
     },
     "execution_count": 39,
     "metadata": {},
     "output_type": "execute_result"
    }
   ],
   "source": [
    "# Vamos verificar as correlações com a variável 'target'.\n",
    "corr_matrix = california_df.corr(numeric_only=True)\n",
    "corr_matrix[\"target\"].sort_values(ascending=False)"
   ]
  },
  {
   "cell_type": "markdown",
   "metadata": {},
   "source": [
    "MedInc é a categoria mais correlacionada com o target."
   ]
  },
  {
   "cell_type": "markdown",
   "metadata": {},
   "source": [
    "A seguir, vamos criar a variável \"income_cat\", para possibilitar uma divisão estratificada dos dados. \n",
    "\n",
    "Essa variável será responsável por dividir os valores de \"MedInc\" em 5 categorias diferentes.\n",
    "\n",
    "Cada categoria irá armazenar uma faixa de salário(Income)."
   ]
  },
  {
   "cell_type": "code",
   "execution_count": 40,
   "metadata": {},
   "outputs": [],
   "source": [
    "california_df[\"income_cat\"] = pd.cut(california_df[\"MedInc\"],\n",
    "                               bins=[0., 1.5, 3.0, 4.5, 6., np.inf],\n",
    "                               labels=[1, 2, 3, 4, 5])"
   ]
  },
  {
   "cell_type": "code",
   "execution_count": 41,
   "metadata": {},
   "outputs": [
    {
     "data": {
      "image/png": "[encoded data removed]",
      "text/plain": [
       "<Figure size 640x480 with 1 Axes>"
      ]
     },
     "metadata": {},
     "output_type": "display_data"
    }
   ],
   "source": [
    "california_df[\"income_cat\"].value_counts().sort_index().plot.bar(rot=0, grid=True)\n",
    "plt.xlabel(\"Income category\")\n",
    "plt.ylabel(\"Number of districts\")\n",
    "plt.show()"
   ]
  },
  {
   "cell_type": "markdown",
   "metadata": {},
   "source": [
    "Agora vamos criar uma divisão estratificada do conjunto \"california_df\" utilizando a coluna \"income_cat\" como referência.\n",
    "\n",
    "A divisão estratificada vai separar uma quantidade de dados proporcionais representativa de acordo com os valores de \"income_cat\".\n",
    "\n"
   ]
  },
  {
   "cell_type": "code",
   "execution_count": 42,
   "metadata": {},
   "outputs": [],
   "source": [
    "strat_train_set, strat_test_set = train_test_split(\n",
    "    california_df, test_size=0.2, stratify=california_df[\"income_cat\"], random_state=42)"
   ]
  },
  {
   "cell_type": "code",
   "execution_count": 43,
   "metadata": {},
   "outputs": [
    {
     "data": {
      "text/plain": [
       "income_cat\n",
       "3    0.350533\n",
       "2    0.318798\n",
       "4    0.176357\n",
       "5    0.114341\n",
       "1    0.039971\n",
       "Name: count, dtype: float64"
      ]
     },
     "execution_count": 43,
     "metadata": {},
     "output_type": "execute_result"
    }
   ],
   "source": [
    "strat_test_set[\"income_cat\"].value_counts() / len(strat_test_set)"
   ]
  },
  {
   "cell_type": "markdown",
   "metadata": {},
   "source": [
    "Acima podemos ver como ficou a distribuição de dados(income_cat) em strat_test_set.\n",
    "\n",
    "Abaixo vamos excluir a coluna \"income_cat\", pois o propósito dela de auxiliar na divisão de dados já foi cumprido."
   ]
  },
  {
   "cell_type": "code",
   "execution_count": 44,
   "metadata": {},
   "outputs": [],
   "source": [
    "# Dropar a 'income_cat'\n",
    "for set_ in (strat_train_set, strat_test_set):\n",
    "    set_.drop(\"income_cat\", axis=1, inplace=True)"
   ]
  },
  {
   "cell_type": "markdown",
   "metadata": {},
   "source": [
    "# 3 - Construção e Teste de Modelos de Machine Learning\n",
    "\n",
    "Nessa etapa vamos separar nossos dados entre conjuntos de treino e conjuntos de teste.\n",
    "\n",
    "Vamos criar variáveis padronizadas para utilizar em alguns modelos de Machine Learning sensíveis a escala dos dados.\n",
    "\n",
    "E então, finalmente iremos construir nossos modelos de machine learning, ajustar, e testar, para verificar seus desempenhos."
   ]
  },
  {
   "cell_type": "code",
   "execution_count": 45,
   "metadata": {},
   "outputs": [],
   "source": [
    "# A partir dos conjuntos de dados estratificados vamos definir os conjuntos de treino e os conjuntos de teste.\n",
    "# Esses conjuntos serão usados para a construção dos nossos modelos de Machine Learning.\n",
    "\n",
    "X_train = strat_train_set.drop(\"target\", axis=1)\n",
    "y_train = strat_train_set[\"target\"].copy()\n",
    "X_test = strat_test_set.drop(\"target\", axis=1)\n",
    "y_test = strat_test_set[\"target\"].copy()"
   ]
  },
  {
   "cell_type": "code",
   "execution_count": 46,
   "metadata": {},
   "outputs": [],
   "source": [
    "# Vamos importar o pacote StardandScaler, com a finalidade de padronizar os dados de treinamento. \n",
    "# Alguns algoritmos de Machine Learning são sensíveis as escalas de dados.\n",
    "\n",
    "from sklearn.preprocessing import StandardScaler\n",
    "\n",
    "# Padronizar as variáveis preditoras do conjunto de treinamento\n",
    "scaler = StandardScaler()\n",
    "\n",
    "# Ajustar o scaler ao conjunto de treino e transformar X_train\n",
    "X_train_scaled = scaler.fit_transform(X_train)\n",
    "\n",
    "# Usar as mesmas estatísticas para transformar X_test\n",
    "X_test_scaled = scaler.transform(X_test)\n",
    "\n",
    "# Ajustar o scaler apenas aos valores únicos da variável alvo (y_train)\n",
    "y_train_scaled = scaler.fit_transform(y_train.values.reshape(-1, 1))\n",
    "\n",
    "# Usar as mesmas estatísticas para transformar y_test\n",
    "y_test_scaled = scaler.transform(y_test.values.reshape(-1, 1))"
   ]
  },
  {
   "cell_type": "code",
   "execution_count": 47,
   "metadata": {},
   "outputs": [
    {
     "data": {
      "text/html": [
       "<div>\n",
       "<style scoped>\n",
       "    .dataframe tbody tr th:only-of-type {\n",
       "        vertical-align: middle;\n",
       "    }\n",
       "\n",
       "    .dataframe tbody tr th {\n",
       "        vertical-align: top;\n",
       "    }\n",
       "\n",
       "    .dataframe thead th {\n",
       "        text-align: right;\n",
       "    }\n",
       "</style>\n",
       "<table border=\"1\" class=\"dataframe\">\n",
       "  <thead>\n",
       "    <tr style=\"text-align: right;\">\n",
       "      <th></th>\n",
       "      <th>0</th>\n",
       "      <th>1</th>\n",
       "      <th>2</th>\n",
       "      <th>3</th>\n",
       "      <th>4</th>\n",
       "      <th>5</th>\n",
       "      <th>6</th>\n",
       "      <th>7</th>\n",
       "    </tr>\n",
       "  </thead>\n",
       "  <tbody>\n",
       "    <tr>\n",
       "      <th>0</th>\n",
       "      <td>-0.893647</td>\n",
       "      <td>0.027564</td>\n",
       "      <td>0.017395</td>\n",
       "      <td>0.060107</td>\n",
       "      <td>0.732602</td>\n",
       "      <td>0.006223</td>\n",
       "      <td>1.347438</td>\n",
       "      <td>-0.941350</td>\n",
       "    </tr>\n",
       "    <tr>\n",
       "      <th>1</th>\n",
       "      <td>1.292168</td>\n",
       "      <td>-1.722018</td>\n",
       "      <td>0.569256</td>\n",
       "      <td>0.029314</td>\n",
       "      <td>0.533612</td>\n",
       "      <td>-0.040811</td>\n",
       "      <td>-1.192440</td>\n",
       "      <td>1.171782</td>\n",
       "    </tr>\n",
       "    <tr>\n",
       "      <th>2</th>\n",
       "      <td>-0.525434</td>\n",
       "      <td>1.220460</td>\n",
       "      <td>-0.018024</td>\n",
       "      <td>-0.128357</td>\n",
       "      <td>-0.674675</td>\n",
       "      <td>-0.075371</td>\n",
       "      <td>-0.125972</td>\n",
       "      <td>0.267581</td>\n",
       "    </tr>\n",
       "    <tr>\n",
       "      <th>3</th>\n",
       "      <td>-0.865929</td>\n",
       "      <td>-0.370069</td>\n",
       "      <td>-0.595140</td>\n",
       "      <td>-0.047102</td>\n",
       "      <td>-0.467617</td>\n",
       "      <td>-0.106803</td>\n",
       "      <td>-1.351474</td>\n",
       "      <td>1.221738</td>\n",
       "    </tr>\n",
       "    <tr>\n",
       "      <th>4</th>\n",
       "      <td>0.325752</td>\n",
       "      <td>-0.131489</td>\n",
       "      <td>0.251241</td>\n",
       "      <td>0.030323</td>\n",
       "      <td>0.374060</td>\n",
       "      <td>0.006109</td>\n",
       "      <td>-0.635818</td>\n",
       "      <td>0.437431</td>\n",
       "    </tr>\n",
       "  </tbody>\n",
       "</table>\n",
       "</div>"
      ],
      "text/plain": [
       "          0         1         2         3         4         5         6  \\\n",
       "0 -0.893647  0.027564  0.017395  0.060107  0.732602  0.006223  1.347438   \n",
       "1  1.292168 -1.722018  0.569256  0.029314  0.533612 -0.040811 -1.192440   \n",
       "2 -0.525434  1.220460 -0.018024 -0.128357 -0.674675 -0.075371 -0.125972   \n",
       "3 -0.865929 -0.370069 -0.595140 -0.047102 -0.467617 -0.106803 -1.351474   \n",
       "4  0.325752 -0.131489  0.251241  0.030323  0.374060  0.006109 -0.635818   \n",
       "\n",
       "          7  \n",
       "0 -0.941350  \n",
       "1  1.171782  \n",
       "2  0.267581  \n",
       "3  1.221738  \n",
       "4  0.437431  "
      ]
     },
     "execution_count": 47,
     "metadata": {},
     "output_type": "execute_result"
    }
   ],
   "source": [
    "# x_train_df armazena o dataframe de \"X_train_scaled\"\n",
    "x_train_df = pd.DataFrame(X_train_scaled)\n",
    "x_train_df.head()"
   ]
  },
  {
   "cell_type": "markdown",
   "metadata": {},
   "source": [
    "Assim ficou nosso dataframe após a aplicação de Standard Scaler.\n",
    "\n",
    "Note que todos os números agora estão em uma escala muito mais próxima de 0."
   ]
  },
  {
   "cell_type": "code",
   "execution_count": 48,
   "metadata": {},
   "outputs": [
    {
     "data": {
      "text/plain": [
       "<Axes: >"
      ]
     },
     "execution_count": 48,
     "metadata": {},
     "output_type": "execute_result"
    },
    {
     "data": {
      "image/png": "[encoded data removed]",
      "text/plain": [
       "<Figure size 640x480 with 1 Axes>"
      ]
     },
     "metadata": {},
     "output_type": "display_data"
    }
   ],
   "source": [
    "# Vamos visualizar a distribuição de dados de \"x_train_df\"\n",
    "pd.DataFrame(x_train_df)[1].hist()"
   ]
  },
  {
   "cell_type": "markdown",
   "metadata": {},
   "source": [
    "K-Nearest Neighbors (KNN)"
   ]
  },
  {
   "cell_type": "code",
   "execution_count": 49,
   "metadata": {},
   "outputs": [],
   "source": [
    "# from sklearn.model_selection import cross_val_predict\n",
    "# from sklearn.preprocessing import StandardScaler\n",
    "# from sklearn.metrics import mean_squared_error\n",
    "# import numpy as np\n",
    "# from sklearn.neighbors import KNeighborsRegressor\n",
    "# from sklearn.model_selection import KFold\n",
    "\n",
    "# # Criar um modelo KNeighborsRegressor\n",
    "# knn_model = KNeighborsRegressor(n_neighbors=10, p=1, weights='distance')\n",
    "\n",
    "# # Especificar o número de folds para a validação cruzada\n",
    "# num_folds = 5 \n",
    "# # Criar um objeto KFold para dividir os dados\n",
    "# kf = KFold(n_splits=num_folds, shuffle=True, random_state=42)\n",
    "# # Realizar a validação cruzada e obter as previsões padronizadas\n",
    "# cross_val_pred_scaled = cross_val_predict(knn_model, X_train_scaled, y_train_scaled, cv=kf)\n",
    "# # Inverter a padronização para obter as previsões na escala original\n",
    "# cross_val_pred_original = scaler.inverse_transform(cross_val_pred_scaled)\n",
    "# # Calcular o RMSE na escala original\n",
    "# rmse_original = np.sqrt(mean_squared_error(y_train, cross_val_pred_original))\n",
    "\n",
    "# # Imprimir o resultado\n",
    "# print(f'RMSE na escala original após validação cruzada: {rmse_original}')"
   ]
  },
  {
   "cell_type": "code",
   "execution_count": 50,
   "metadata": {},
   "outputs": [
    {
     "data": {
      "text/plain": [
       "57291.36626933032"
      ]
     },
     "execution_count": 50,
     "metadata": {},
     "output_type": "execute_result"
    }
   ],
   "source": [
    "from sklearn.neighbors import KNeighborsRegressor\n",
    "from sklearn.metrics import mean_squared_error\n",
    "\n",
    "knn_model = KNeighborsRegressor(n_neighbors=10, p=1, weights='distance')\n",
    "knn_model.fit(X_train_scaled, y_train_scaled)  # Use y_train_scaled em vez de y_train\n",
    "\n",
    "# Fazer previsões no conjunto de teste\n",
    "knn_model_pred_scaled = knn_model.predict(X_test_scaled)\n",
    "\n",
    "# Inverter a padronização para obter as previsões na escala original\n",
    "knn_model_pred_original = scaler.inverse_transform(knn_model_pred_scaled)\n",
    "\n",
    "# Avaliar o desempenho do modelo KNeighborsRegressor\n",
    "knn_mse = mean_squared_error(y_test, knn_model_pred_original)\n",
    "knn_rmse = np.sqrt(knn_mse)\n",
    "knn_rmse"
   ]
  },
  {
   "cell_type": "markdown",
   "metadata": {},
   "source": [
    "Linear Regression"
   ]
  },
  {
   "cell_type": "code",
   "execution_count": 51,
   "metadata": {},
   "outputs": [
    {
     "name": "stdout",
     "output_type": "stream",
     "text": [
      "Média do RMSE na validação cruzada: 81883.32230005926\n"
     ]
    }
   ],
   "source": [
    "from sklearn.linear_model import LinearRegression\n",
    "from sklearn.model_selection import cross_val_score, KFold\n",
    "from sklearn.metrics import mean_squared_error\n",
    "import numpy as np\n",
    "\n",
    "# Criar e treinar o modelo de Regressão Linear\n",
    "model = LinearRegression()\n",
    "model.fit(X_train, y_train)\n",
    "\n",
    "# Fazer previsões no conjunto de teste\n",
    "lm_predictions = model.predict(X_test)\n",
    "\n",
    "# Agora, vamos realizar a validação cruzada para obter uma estimativa mais robusta do desempenho do modelo\n",
    "# Criar um objeto KFold para dividir os dados\n",
    "num_folds = 5  # Pode ajustar conforme necessário\n",
    "kf = KFold(n_splits=num_folds, shuffle=True, random_state=42)\n",
    "\n",
    "# Realizar a validação cruzada e calcular o RMSE para cada fold\n",
    "cross_val_rmse = np.sqrt(-cross_val_score(model, X_train, y_train, scoring='neg_mean_squared_error', cv=kf))\n",
    "\n",
    "# Calcular a média do RMSE dos folds\n",
    "average_cross_val_rmse = np.mean(cross_val_rmse)\n",
    "\n",
    "# Imprimir o resultado\n",
    "print(f'Média do RMSE na validação cruzada: {average_cross_val_rmse}')"
   ]
  },
  {
   "cell_type": "code",
   "execution_count": 52,
   "metadata": {},
   "outputs": [
    {
     "data": {
      "text/plain": [
       "71197.82994961065"
      ]
     },
     "execution_count": 52,
     "metadata": {},
     "output_type": "execute_result"
    }
   ],
   "source": [
    "from sklearn.linear_model import LinearRegression\n",
    "\n",
    "# Criar e treinar o modelo de Regressão Linear\n",
    "model = LinearRegression()\n",
    "model.fit(X_train, y_train)\n",
    "\n",
    "# Fazer previsões no conjunto de teste\n",
    "lm_predictions = model.predict(X_test)\n",
    "\n",
    "# Avaliar o desempenho do modelo no conjunto de teste\n",
    "lin_mse = mean_squared_error(y_test, lm_predictions)\n",
    "lin_rmse = np.sqrt(lin_mse)\n",
    "lin_rmse"
   ]
  },
  {
   "cell_type": "markdown",
   "metadata": {},
   "source": [
    "Gradient Boosting"
   ]
  },
  {
   "cell_type": "code",
   "execution_count": 53,
   "metadata": {},
   "outputs": [
    {
     "name": "stdout",
     "output_type": "stream",
     "text": [
      "Média do RMSE na validação cruzada: 47642.15396674677\n"
     ]
    }
   ],
   "source": [
    "from sklearn.ensemble import GradientBoostingRegressor\n",
    "from sklearn.model_selection import cross_val_score, KFold\n",
    "from sklearn.metrics import mean_squared_error\n",
    "import numpy as np\n",
    "\n",
    "# Criar e treinar o modelo Gradient Boosting Regressor\n",
    "gb_model = GradientBoostingRegressor(n_estimators=200, learning_rate=0.2, max_depth=5, min_samples_split=2, min_samples_leaf=1, random_state=42)\n",
    "gb_model.fit(X_train, y_train)\n",
    "\n",
    "# Agora, vamos realizar a validação cruzada para obter uma estimativa mais robusta do desempenho do modelo\n",
    "# Criar um objeto KFold para dividir os dados\n",
    "num_folds = 5  # Pode ajustar conforme necessário\n",
    "kf = KFold(n_splits=num_folds, shuffle=True, random_state=42)\n",
    "\n",
    "# Realizar a validação cruzada e calcular o RMSE para cada fold\n",
    "cross_val_rmse = np.sqrt(-cross_val_score(gb_model, X_train, y_train, scoring='neg_mean_squared_error', cv=kf))\n",
    "\n",
    "# Calcular a média do RMSE dos folds\n",
    "average_cross_val_rmse = np.mean(cross_val_rmse)\n",
    "\n",
    "# Imprimir o resultado\n",
    "print(f'Média do RMSE na validação cruzada: {average_cross_val_rmse}')\n"
   ]
  },
  {
   "cell_type": "code",
   "execution_count": 54,
   "metadata": {},
   "outputs": [
    {
     "data": {
      "text/plain": [
       "45712.85555559645"
      ]
     },
     "execution_count": 54,
     "metadata": {},
     "output_type": "execute_result"
    }
   ],
   "source": [
    "from sklearn.ensemble import GradientBoostingRegressor\n",
    "\n",
    "# Criar e treinar o modelo Gradient Boosting Regressor\n",
    "gb_model = GradientBoostingRegressor(n_estimators = 200, learning_rate = 0.2, max_depth = 5, min_samples_split =2, min_samples_leaf = 1, random_state=42)\n",
    "gb_model.fit(X_train, y_train)\n",
    "\n",
    "# Fazer previsões no conjunto de teste\n",
    "gb_y_pred = gb_model.predict(X_test)\n",
    "\n",
    "# Avaliar o desempenho do modelo Gradient Boosting\n",
    "gb_mse = mean_squared_error(y_test, gb_y_pred)\n",
    "gb_rmse = np.sqrt(gb_mse)\n",
    "gb_rmse"
   ]
  },
  {
   "cell_type": "markdown",
   "metadata": {},
   "source": [
    "Random Forest "
   ]
  },
  {
   "cell_type": "code",
   "execution_count": 55,
   "metadata": {},
   "outputs": [
    {
     "name": "stdout",
     "output_type": "stream",
     "text": [
      "Média do RMSE na validação cruzada: 49928.004949895585\n"
     ]
    }
   ],
   "source": [
    "from sklearn.ensemble import RandomForestRegressor\n",
    "from sklearn.model_selection import cross_val_score, KFold\n",
    "from sklearn.metrics import mean_squared_error\n",
    "import numpy as np\n",
    "\n",
    "# Criar e treinar o modelo Random Forest Regressor\n",
    "rf_model = RandomForestRegressor(max_depth=None, max_features='log2', min_samples_leaf=1, min_samples_split=2, n_estimators=150, random_state=42)\n",
    "rf_model.fit(X_train, y_train)\n",
    "\n",
    "# Agora, vamos realizar a validação cruzada para obter uma estimativa mais robusta do desempenho do modelo\n",
    "# Criar um objeto KFold para dividir os dados\n",
    "num_folds = 5  # Pode ajustar conforme necessário\n",
    "kf = KFold(n_splits=num_folds, shuffle=True, random_state=42)\n",
    "\n",
    "# Realizar a validação cruzada e calcular o RMSE para cada fold\n",
    "cross_val_rmse = np.sqrt(-cross_val_score(rf_model, X_train, y_train, scoring='neg_mean_squared_error', cv=kf))\n",
    "\n",
    "# Calcular a média do RMSE dos folds\n",
    "average_cross_val_rmse = np.mean(cross_val_rmse)\n",
    "\n",
    "# Imprimir o resultado\n",
    "print(f'Média do RMSE na validação cruzada: {average_cross_val_rmse}')\n"
   ]
  },
  {
   "cell_type": "code",
   "execution_count": 56,
   "metadata": {},
   "outputs": [
    {
     "data": {
      "text/plain": [
       "47740.13819738083"
      ]
     },
     "execution_count": 56,
     "metadata": {},
     "output_type": "execute_result"
    }
   ],
   "source": [
    "from sklearn.ensemble import RandomForestRegressor\n",
    "\n",
    "# Criar e treinar o modelo Random Forest Regressor\n",
    "rf_model = RandomForestRegressor(max_depth=None, max_features='log2', min_samples_leaf=1, min_samples_split=2, n_estimators=150, random_state=42)\n",
    "rf_model.fit(X_train, y_train)\n",
    "\n",
    "# Fazer previsões no conjunto de teste\n",
    "rf_y_pred = rf_model.predict(X_test)\n",
    "\n",
    "# Avaliar o desempenho do modelo no conjunto de teste\n",
    "rf_mse = mean_squared_error(y_test, rf_y_pred)\n",
    "rf_rmse = np.sqrt(rf_mse)\n",
    "rf_rmse"
   ]
  },
  {
   "cell_type": "markdown",
   "metadata": {},
   "source": [
    "Ensemble Model"
   ]
  },
  {
   "cell_type": "markdown",
   "metadata": {},
   "source": [
    "Vamos combinar os algoritmos Gradient Boosting e Random Forest para criar um Ensemble Model."
   ]
  },
  {
   "cell_type": "code",
   "execution_count": 57,
   "metadata": {},
   "outputs": [
    {
     "name": "stdout",
     "output_type": "stream",
     "text": [
      "RMSE do Ensemble: 44934.82316504352\n"
     ]
    }
   ],
   "source": [
    "from sklearn.ensemble import VotingRegressor\n",
    "\n",
    "# Criar um ensemble usando VotingRegressor com pesos\n",
    "ensemble_model = VotingRegressor(estimators=[('gb', gb_model), ('rf', rf_model)], weights=[2, 1])\n",
    "ensemble_model.fit(X_train, y_train)\n",
    "\n",
    "# Fazer previsões com o ensemble\n",
    "ensemble_predictions = ensemble_model.predict(X_test)\n",
    "\n",
    "# Avaliação do desempenho do ensemble\n",
    "ensemble_mse = mean_squared_error(y_test, ensemble_predictions)\n",
    "ensemble_rmse = np.sqrt(ensemble_mse)\n",
    "print(f'RMSE do Ensemble: {ensemble_rmse}')"
   ]
  },
  {
   "cell_type": "markdown",
   "metadata": {},
   "source": [
    "# 4 - Conclusão\n",
    "\n",
    "Por último, vamos gerar um gráfico de barras horizontais para comparar a precisão das previsões de cada modelo utilizado."
   ]
  },
  {
   "cell_type": "code",
   "execution_count": 58,
   "metadata": {},
   "outputs": [
    {
     "data": {
      "image/png": "[encoded data removed]",
      "text/plain": [
       "<Figure size 640x480 with 1 Axes>"
      ]
     },
     "metadata": {},
     "output_type": "display_data"
    }
   ],
   "source": [
    "import matplotlib.pyplot as plt\n",
    "\n",
    "# Nomes dos modelos\n",
    "model_names = ['Linear Regression', 'KNN', 'Random Forest', 'Gradient Boosting', 'Ensemble Model']\n",
    "\n",
    "# Valores RMSE correspondentes\n",
    "rmse_values = [lin_rmse, knn_rmse, rf_rmse, gb_rmse, ensemble_rmse]\n",
    "\n",
    "# Criar gráfico de barras horizontais\n",
    "fig, ax = plt.subplots()\n",
    "bars = ax.barh(model_names, rmse_values, color='skyblue')\n",
    "\n",
    "# Adicionar rótulos com os valores exatos dentro das barras\n",
    "for bar, value in zip(bars, rmse_values):\n",
    "    ax.text(bar.get_width() - 12000, bar.get_y() + bar.get_height()/2, f'{value:.2f}', \n",
    "            va='center', ha='left', fontsize=8, color='black')\n",
    "\n",
    "plt.xlabel('RMSE (Root Mean Squared Error)')\n",
    "plt.title('Comparação de RMSE entre Modelos')\n",
    "plt.show()"
   ]
  },
  {
   "cell_type": "markdown",
   "metadata": {},
   "source": [
    "O Ensemble Model se mostrou o melhor modelo dentre os que foram selecionados para esse projeto."
   ]
  }
 ],
 "metadata": {
  "kernelspec": {
   "display_name": "Python 3",
   "language": "python",
   "name": "python3"
  },
  "language_info": {
   "codemirror_mode": {
    "name": "ipython",
    "version": 3
   },
   "file_extension": ".py",
   "mimetype": "text/x-python",
   "name": "python",
   "nbconvert_exporter": "python",
   "pygments_lexer": "ipython3",
   "version": "3.11.7"
  }
 },
 "nbformat": 4,
 "nbformat_minor": 2
}
